{
  "metadata": {
    "kernelspec": {
      "name": "python",
      "display_name": "Python (Pyodide)",
      "language": "python"
    },
    "language_info": {
      "codemirror_mode": {
        "name": "python",
        "version": 3
      },
      "file_extension": ".py",
      "mimetype": "text/x-python",
      "name": "python",
      "nbconvert_exporter": "python",
      "pygments_lexer": "ipython3",
      "version": "3.8"
    }
  },
  "nbformat_minor": 4,
  "nbformat": 4,
  "cells": [
    {
      "cell_type": "markdown",
      "source": "<h1>Data Science Tools and Ecosystem</h1>",
      "metadata": {}
    },
    {
      "cell_type": "code",
      "source": "",
      "metadata": {
        "trusted": true
      },
      "outputs": [],
      "execution_count": null
    },
    {
      "cell_type": "markdown",
      "source": "In this notebook, Data Science Tools and Ecosystem are summarized.",
      "metadata": {}
    },
    {
      "cell_type": "markdown",
      "source": "Some of the popular languages that Data Scientists use are:\n<ol><li>Python</li>\n<li>R Studio</li>\n<li>GitHub</li></ol>\n",
      "metadata": {}
    },
    {
      "cell_type": "markdown",
      "source": "<h1>Some of the commonly used libraries used by Data Scientists include:</h1>\n<ol><li>Numpy</li>\n<li>Pandas</li>\n<li>Matplotlib</li></ol>",
      "metadata": {}
    },
    {
      "cell_type": "markdown",
      "source": "<table><tr><th>Data Science Tools</th></tr>\n<tr><td>Data Mining</td>\n<td>Data Visualization</td>\n<td>Big Data Tools</td></tr></table>",
      "metadata": {}
    },
    {
      "cell_type": "markdown",
      "source": "<h3>Below are a few examples of evaluating arithmetic expressions in Python.</h3>",
      "metadata": {}
    },
    {
      "cell_type": "code",
      "source": "print((3*4)+5)",
      "metadata": {
        "trusted": true
      },
      "outputs": [
        {
          "name": "stdout",
          "text": "17\n",
          "output_type": "stream"
        }
      ],
      "execution_count": 2
    },
    {
      "cell_type": "code",
      "source": "print(200%60)",
      "metadata": {
        "trusted": true
      },
      "outputs": [
        {
          "name": "stdout",
          "text": "20\n",
          "output_type": "stream"
        }
      ],
      "execution_count": 1
    },
    {
      "cell_type": "markdown",
      "source": "<title>Objectives:</title>\n<ul><li>Python</li>\n<li>SQL</li>\n<li>.R</li>\n<li>Julia</li></ul>",
      "metadata": {}
    },
    {
      "cell_type": "markdown",
      "source": "<h2>Author</h2>\n",
      "metadata": {}
    }
  ]
}